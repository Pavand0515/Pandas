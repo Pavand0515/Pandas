{
 "cells": [
  {
   "cell_type": "code",
   "execution_count": 2,
   "id": "54756001",
   "metadata": {},
   "outputs": [],
   "source": [
    "import pandas as pd\n",
    "import numpy as np\n",
    "import re\n",
    "import warnings\n",
    "warnings.filterwarnings('ignore')"
   ]
  },
  {
   "cell_type": "markdown",
   "id": "a1585512",
   "metadata": {},
   "source": [
    "### Creating a dataframe\n"
   ]
  },
  {
   "cell_type": "code",
   "execution_count": 3,
   "id": "6af366a9",
   "metadata": {},
   "outputs": [
    {
     "name": "stdout",
     "output_type": "stream",
     "text": [
      "0    1\n",
      "1    2\n",
      "2    3\n",
      "dtype: int64\n",
      "   a       b\n",
      "0  1   Apple\n",
      "1  2     cow\n",
      "2  3  banana\n"
     ]
    }
   ],
   "source": [
    "ser=pd.Series([1,2,3])\n",
    "df=pd.DataFrame({'a':[1,2,3],'b':['Apple','cow','banana']})\n",
    "print(ser)\n",
    "print(df)"
   ]
  },
  {
   "cell_type": "markdown",
   "id": "f75f53f6",
   "metadata": {},
   "source": [
    "- in the above we have labels like 0,1,2 we can acess through labels if we need we can change through index,"
   ]
  },
  {
   "cell_type": "code",
   "execution_count": 4,
   "id": "38022c89",
   "metadata": {},
   "outputs": [
    {
     "name": "stdout",
     "output_type": "stream",
     "text": [
      "1\n",
      "a    1\n",
      "b    2\n",
      "c    3\n",
      "dtype: int64\n"
     ]
    }
   ],
   "source": [
    "print(ser[0])\n",
    "ser=pd.Series([1,2,3],index=['a','b','c'])\n",
    "print(ser)"
   ]
  },
  {
   "cell_type": "markdown",
   "id": "7fb63ce3",
   "metadata": {},
   "source": [
    "### Loading data from files(csv,txt,json)"
   ]
  },
  {
   "cell_type": "code",
   "execution_count": 5,
   "id": "a2ee6ba5",
   "metadata": {},
   "outputs": [
    {
     "name": "stdout",
     "output_type": "stream",
     "text": [
      "<class 'pandas.core.frame.DataFrame'>\n",
      "RangeIndex: 200 entries, 0 to 199\n",
      "Data columns (total 8 columns):\n",
      " #   Column                 Non-Null Count  Dtype  \n",
      "---  ------                 --------------  -----  \n",
      " 0   Customer_ID            200 non-null    object \n",
      " 1   Gender                 200 non-null    object \n",
      " 2   Age                    200 non-null    int64  \n",
      " 3   Device_Type            200 non-null    object \n",
      " 4   Day_of_Week            200 non-null    object \n",
      " 5   Time_Spent_on_App      190 non-null    float64\n",
      " 6   Total_Purchase_Amount  190 non-null    float64\n",
      " 7   Used_Discount_Code     200 non-null    object \n",
      "dtypes: float64(2), int64(1), object(5)\n",
      "memory usage: 12.6+ KB\n"
     ]
    }
   ],
   "source": [
    "df=pd.read_csv(r\"E:\\Pavan work\\Data files\\retailmax_customer_data.csv\")\n",
    "df.info()"
   ]
  },
  {
   "cell_type": "code",
   "execution_count": 6,
   "id": "ddc0719a",
   "metadata": {},
   "outputs": [],
   "source": [
    "#print(df)"
   ]
  },
  {
   "cell_type": "markdown",
   "id": "21f15d23",
   "metadata": {},
   "source": [
    "- if we need entire dataframe then we use to_string() method."
   ]
  },
  {
   "cell_type": "code",
   "execution_count": 7,
   "id": "fc73b2a0",
   "metadata": {},
   "outputs": [],
   "source": [
    "#print(df.to_string())"
   ]
  },
  {
   "cell_type": "code",
   "execution_count": 8,
   "id": "ae725478",
   "metadata": {},
   "outputs": [
    {
     "data": {
      "text/html": [
       "<div>\n",
       "<style scoped>\n",
       "    .dataframe tbody tr th:only-of-type {\n",
       "        vertical-align: middle;\n",
       "    }\n",
       "\n",
       "    .dataframe tbody tr th {\n",
       "        vertical-align: top;\n",
       "    }\n",
       "\n",
       "    .dataframe thead th {\n",
       "        text-align: right;\n",
       "    }\n",
       "</style>\n",
       "<table border=\"1\" class=\"dataframe\">\n",
       "  <thead>\n",
       "    <tr style=\"text-align: right;\">\n",
       "      <th></th>\n",
       "      <th>Customer_ID</th>\n",
       "      <th>Gender</th>\n",
       "      <th>Age</th>\n",
       "      <th>Device_Type</th>\n",
       "      <th>Day_of_Week</th>\n",
       "      <th>Time_Spent_on_App</th>\n",
       "      <th>Total_Purchase_Amount</th>\n",
       "      <th>Used_Discount_Code</th>\n",
       "    </tr>\n",
       "  </thead>\n",
       "  <tbody>\n",
       "    <tr>\n",
       "      <th>0</th>\n",
       "      <td>C1000</td>\n",
       "      <td>Male</td>\n",
       "      <td>49</td>\n",
       "      <td>Desktop</td>\n",
       "      <td>Saturday</td>\n",
       "      <td>44.9</td>\n",
       "      <td>130.01</td>\n",
       "      <td>No</td>\n",
       "    </tr>\n",
       "    <tr>\n",
       "      <th>1</th>\n",
       "      <td>C1001</td>\n",
       "      <td>Female</td>\n",
       "      <td>56</td>\n",
       "      <td>Desktop</td>\n",
       "      <td>Thursday</td>\n",
       "      <td>38.8</td>\n",
       "      <td>74.41</td>\n",
       "      <td>Yes</td>\n",
       "    </tr>\n",
       "    <tr>\n",
       "      <th>2</th>\n",
       "      <td>C1002</td>\n",
       "      <td>Male</td>\n",
       "      <td>49</td>\n",
       "      <td>Mobile</td>\n",
       "      <td>Sunday</td>\n",
       "      <td>25.7</td>\n",
       "      <td>66.34</td>\n",
       "      <td>No</td>\n",
       "    </tr>\n",
       "    <tr>\n",
       "      <th>3</th>\n",
       "      <td>C1003</td>\n",
       "      <td>Male</td>\n",
       "      <td>21</td>\n",
       "      <td>Mobile</td>\n",
       "      <td>Wednesday</td>\n",
       "      <td>26.6</td>\n",
       "      <td>195.47</td>\n",
       "      <td>No</td>\n",
       "    </tr>\n",
       "    <tr>\n",
       "      <th>4</th>\n",
       "      <td>C1004</td>\n",
       "      <td>Male</td>\n",
       "      <td>47</td>\n",
       "      <td>Desktop</td>\n",
       "      <td>Friday</td>\n",
       "      <td>12.7</td>\n",
       "      <td>127.36</td>\n",
       "      <td>Yes</td>\n",
       "    </tr>\n",
       "  </tbody>\n",
       "</table>\n",
       "</div>"
      ],
      "text/plain": [
       "  Customer_ID  Gender  Age Device_Type Day_of_Week  Time_Spent_on_App  \\\n",
       "0       C1000    Male   49     Desktop    Saturday               44.9   \n",
       "1       C1001  Female   56     Desktop    Thursday               38.8   \n",
       "2       C1002    Male   49      Mobile      Sunday               25.7   \n",
       "3       C1003    Male   21      Mobile   Wednesday               26.6   \n",
       "4       C1004    Male   47     Desktop      Friday               12.7   \n",
       "\n",
       "   Total_Purchase_Amount Used_Discount_Code  \n",
       "0                 130.01                 No  \n",
       "1                  74.41                Yes  \n",
       "2                  66.34                 No  \n",
       "3                 195.47                 No  \n",
       "4                 127.36                Yes  "
      ]
     },
     "execution_count": 8,
     "metadata": {},
     "output_type": "execute_result"
    }
   ],
   "source": [
    "df.head(5) # gives the first 5 rows of the dataframe"
   ]
  },
  {
   "cell_type": "markdown",
   "id": "08dd5274",
   "metadata": {},
   "source": [
    "## Preprocessing data"
   ]
  },
  {
   "cell_type": "markdown",
   "id": "d2f7ddef",
   "metadata": {},
   "source": [
    "### Empty cells\n",
    "- we can drop or fill the empty cells."
   ]
  },
  {
   "cell_type": "code",
   "execution_count": 9,
   "id": "17bfeeef",
   "metadata": {},
   "outputs": [],
   "source": [
    "x=df['Time_Spent_on_App'].mean()\n",
    "df.fillna({'Time_Spent_on_App': x}, inplace=True)"
   ]
  },
  {
   "cell_type": "markdown",
   "id": "349fc809",
   "metadata": {},
   "source": [
    "- we use inplace=true to change the original dataframe if we dont use that then it will create a copy of the data frame and changes are not reflected in the original dataframe."
   ]
  },
  {
   "cell_type": "code",
   "execution_count": 10,
   "id": "1206fd1f",
   "metadata": {},
   "outputs": [
    {
     "name": "stdout",
     "output_type": "stream",
     "text": [
      "<class 'pandas.core.frame.DataFrame'>\n",
      "Index: 190 entries, 0 to 199\n",
      "Data columns (total 8 columns):\n",
      " #   Column                 Non-Null Count  Dtype  \n",
      "---  ------                 --------------  -----  \n",
      " 0   Customer_ID            190 non-null    object \n",
      " 1   Gender                 190 non-null    object \n",
      " 2   Age                    190 non-null    int64  \n",
      " 3   Device_Type            190 non-null    object \n",
      " 4   Day_of_Week            190 non-null    object \n",
      " 5   Time_Spent_on_App      190 non-null    float64\n",
      " 6   Total_Purchase_Amount  190 non-null    float64\n",
      " 7   Used_Discount_Code     190 non-null    object \n",
      "dtypes: float64(2), int64(1), object(5)\n",
      "memory usage: 13.4+ KB\n"
     ]
    }
   ],
   "source": [
    "df.dropna(inplace=True) # to remove the null values\n",
    "df.info()"
   ]
  },
  {
   "cell_type": "code",
   "execution_count": 11,
   "id": "bd4f9900",
   "metadata": {},
   "outputs": [
    {
     "name": "stdout",
     "output_type": "stream",
     "text": [
      "              name                         email            phone date_of_birth        salary postal_code  gender percentage\n",
      "0         John Doe                john@email.com     123-456-7890    01/15/1990       $50,000       12345       M        85%\n",
      "1       jane smith                JANE@EMAIL.COM   (555) 123-4567    1985-12-25         75000  90210-1234  Female      92.5%\n",
      "2      BOB JOHNSON                   bob@invalid       9876543210    03-20-1978   $120,500.50     K1A 0A6    male       0.78\n",
      "3    alice brown                     alice@email  +1-800-555-0123    1995/05/10           45k    SW1A 1AA       f         88\n",
      "4   Charlie-Wilson  charlie.wilson@company.co.uk    invalid_phone    12.30.1980       €60,000      12345-    MALE      95.2%\n",
      "5             None                                   555.123.4567  invalid_date  not_a_number         123            invalid\n"
     ]
    }
   ],
   "source": [
    "\n",
    "data = {\n",
    "        'name': ['John Doe', 'jane smith', 'BOB JOHNSON', '  alice brown  ', 'Charlie-Wilson', None],\n",
    "        'email': ['john@email.com', 'JANE@EMAIL.COM', 'bob@invalid', 'alice@email', 'charlie.wilson@company.co.uk', ''],\n",
    "        'phone': ['123-456-7890', '(555) 123-4567', '9876543210', '+1-800-555-0123', 'invalid_phone', '555.123.4567'],\n",
    "        'date_of_birth': ['01/15/1990', '1985-12-25', '03-20-1978', '1995/05/10', '12.30.1980', 'invalid_date'],\n",
    "        'salary': ['$50,000', '75000', '$120,500.50', '45k', '€60,000', 'not_a_number'],\n",
    "        'postal_code': ['12345', '90210-1234', 'K1A 0A6', 'SW1A 1AA', '12345-', '123'],\n",
    "        'gender': ['M', 'Female', 'male', 'f', 'MALE', ''],\n",
    "        'percentage': ['85%', '92.5%', '0.78', '88', '95.2%', 'invalid']\n",
    "        }\n",
    "df = pd.DataFrame(data)\n",
    "print(df.to_string())"
   ]
  },
  {
   "cell_type": "code",
   "execution_count": null,
   "id": "984a4481",
   "metadata": {},
   "outputs": [],
   "source": [
    "\n"
   ]
  },
  {
   "cell_type": "code",
   "execution_count": null,
   "id": "b5c8d529",
   "metadata": {},
   "outputs": [
    {
     "name": "stdout",
     "output_type": "stream",
     "text": [
      "             name                         email         phone date_of_birth    salary postal_code gender  percentage\n",
      "0        John Doe                john@email.com  123-456-7890    1990-01-15   50000.0       12345      M        85.0\n",
      "1      Jane Smith                jane@email.com  555-123-4567    1985-12-25   75000.0  90210-1234      F        92.5\n",
      "2     Bob Johnson                           NaN  987-654-3210    1978-03-20  120500.5     K1A 0A6      M        78.0\n",
      "3     Alice Brown                           NaN  800-555-0123    1995-05-10   45000.0    SW1A 1AA      F        88.0\n",
      "4  Charlie Wilson  charlie.wilson@company.co.uk           NaN    1980-12-30   60000.0         NaN      M        95.2\n",
      "5            None                           NaN  555-123-4567           NaT       NaN         NaN    NaN         NaN\n"
     ]
    }
   ],
   "source": [
    "cleaned_df = df.copy()\n",
    "def clean_text(df,col):\n",
    "\n",
    "    df[col]=df[col].str.strip()\n",
    "    df[col]=df[col].str.title()\n",
    "    df[col]=df[col].replace('',np.nan)\n",
    "    df[col]=df[col].str.replace('-',' ').str.title()\n",
    "def clean_email(df):\n",
    "\n",
    "    df[\"email\"]=df[\"email\"].str.strip() \n",
    "    df['email']=df['email'].str.lower()\n",
    "    email_pattern=r'^[a-z0-9._%-+]+@[a-z0-9_%-+.]+\\.[a-z]{2,}$'\n",
    "    mask=df['email'].notna() & df['email'].str.match(email_pattern)\n",
    "    df.loc[~mask,'email']=np.nan\n",
    "\n",
    "def clean_phone(df):\n",
    "    df['phone'] = df['phone'].fillna('')\n",
    "    df['phone'] = df['phone'].replace(r'\\D', '', regex=True)\n",
    "    def check_validity(phone_number):\n",
    "        if not phone_number or pd.isna(phone_number):\n",
    "            return np.nan\n",
    "        if len(phone_number) == 10:\n",
    "            return f\"{phone_number[0:3]}-{phone_number[3:6]}-{phone_number[6:]}\"\n",
    "        elif len(phone_number) == 11 and phone_number.startswith('1'):\n",
    "            return f\"{phone_number[1:4]}-{phone_number[4:7]}-{phone_number[7:]}\"\n",
    "        else:\n",
    "            return np.nan\n",
    "    df['phone'] = df['phone'].apply(check_validity)\n",
    "\n",
    "def clean_date_of_birth(df):\n",
    "    def parse_date(date_string):\n",
    "        for fmt in ('%m/%d/%Y','%Y-%m-%d','%m-%d-%Y','%Y/%m/%d','%m.%d.%Y'):\n",
    "            try:\n",
    "                return pd.to_datetime(date_string, format=fmt)\n",
    "            except ValueError:\n",
    "                continue\n",
    "        return pd.NaT\n",
    "    df['date_of_birth']=df['date_of_birth'].apply(parse_date)\n",
    "\n",
    "\n",
    "def clean_salary(df):\n",
    "    def parse_salary(salary_string):\n",
    "        if pd.isna(salary_string):\n",
    "            return np.nan\n",
    "        salary_string=salary_string.replace('$','').replace('€','').replace(',','').strip().lower()\n",
    "        if salary_string.endswith('k'):\n",
    "            try:\n",
    "                return float(salary_string[:-1])*1000\n",
    "            except ValueError:\n",
    "                return np.nan\n",
    "        try:\n",
    "            return float(salary_string)\n",
    "        except ValueError:\n",
    "            return np.nan\n",
    "    df['salary']=df['salary'].apply(parse_salary)\n",
    "\n",
    "\n",
    "def clean_gender(df):\n",
    "    df['gender']=df['gender'].str.strip().str.title()\n",
    "    df['gender']=df['gender'].replace({'Male':'M','Female':'F'})\n",
    "\n",
    "\n",
    "def clean_percentage(df):\n",
    "    def parse_percentage(perc_string):\n",
    "        if pd.isna(perc_string):\n",
    "            return np.nan\n",
    "        perc_string=perc_string.strip().replace('%','')\n",
    "        try:\n",
    "            value=float(perc_string)\n",
    "            if value<1:\n",
    "                return value*100\n",
    "            return value\n",
    "        except ValueError:\n",
    "            return np.nan\n",
    "    df['percentage']=df['percentage'].apply(parse_percentage)\n",
    "\n",
    "def clean_postal_code(df):\n",
    "    # Example: keep only valid US ZIP or Canadian postal codes, else set to NaN\n",
    "    def parse_postal(postal):\n",
    "        if pd.isna(postal):\n",
    "            return np.nan\n",
    "        postal = postal.strip()\n",
    "        us_zip = re.compile(r'^\\d{5}(-\\d{4})?$')\n",
    "        ca_zip = re.compile(r'^[A-Za-z]\\d[A-Za-z][ -]?\\d[A-Za-z]\\d$')\n",
    "        uk_zip = re.compile(r'^[A-Za-z]{1,2}\\d[A-Za-z\\d]?\\s*\\d[A-Za-z]{2}$')\n",
    "        if us_zip.match(postal) or ca_zip.match(postal) or uk_zip.match(postal):\n",
    "            return postal\n",
    "        return np.nan\n",
    "    df['postal_code'] = df['postal_code'].apply(parse_postal)\n",
    "\n",
    "def clean_all(df):\n",
    "    df.replace('', np.nan, inplace=True)\n",
    "    clean_text(df, 'name')\n",
    "    clean_email(df)\n",
    "    clean_phone(df)\n",
    "    clean_date_of_birth(df)\n",
    "    clean_salary(df)\n",
    "    clean_gender(df)\n",
    "    clean_percentage(df)\n",
    "    clean_postal_code(df)\n",
    "\n",
    "clean_all(cleaned_df)\n",
    "print(cleaned_df.to_string())\n",
    "    \n",
    "\n"
   ]
  },
  {
   "cell_type": "code",
   "execution_count": 32,
   "id": "e93ae782",
   "metadata": {},
   "outputs": [
    {
     "name": "stdout",
     "output_type": "stream",
     "text": [
      "<class 'pandas.core.frame.DataFrame'>\n",
      "RangeIndex: 6 entries, 0 to 5\n",
      "Data columns (total 8 columns):\n",
      " #   Column         Non-Null Count  Dtype         \n",
      "---  ------         --------------  -----         \n",
      " 0   name           5 non-null      object        \n",
      " 1   email          3 non-null      object        \n",
      " 2   phone          5 non-null      object        \n",
      " 3   date_of_birth  5 non-null      datetime64[ns]\n",
      " 4   salary         5 non-null      float64       \n",
      " 5   postal_code    6 non-null      object        \n",
      " 6   gender         5 non-null      object        \n",
      " 7   percentage     5 non-null      float64       \n",
      "dtypes: datetime64[ns](1), float64(2), object(5)\n",
      "memory usage: 516.0+ bytes\n"
     ]
    }
   ],
   "source": [
    "cleaned_df.info()"
   ]
  },
  {
   "cell_type": "code",
   "execution_count": null,
   "id": "7eee2d86",
   "metadata": {},
   "outputs": [],
   "source": []
  }
 ],
 "metadata": {
  "kernelspec": {
   "display_name": "base",
   "language": "python",
   "name": "python3"
  },
  "language_info": {
   "codemirror_mode": {
    "name": "ipython",
    "version": 3
   },
   "file_extension": ".py",
   "mimetype": "text/x-python",
   "name": "python",
   "nbconvert_exporter": "python",
   "pygments_lexer": "ipython3",
   "version": "3.12.7"
  }
 },
 "nbformat": 4,
 "nbformat_minor": 5
}
